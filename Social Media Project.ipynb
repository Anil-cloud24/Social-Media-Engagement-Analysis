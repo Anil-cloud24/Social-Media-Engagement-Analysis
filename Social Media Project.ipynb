{
 "cells": [
  {
   "metadata": {
    "ExecuteTime": {
     "end_time": "2025-07-30T07:40:18.576770Z",
     "start_time": "2025-07-30T07:40:17.051853Z"
    }
   },
   "cell_type": "code",
   "source": [
    "import numpy as np\n",
    "import pandas as pd"
   ],
   "id": "1ef64639d2947b46",
   "outputs": [],
   "execution_count": 2
  },
  {
   "metadata": {
    "ExecuteTime": {
     "end_time": "2025-07-30T07:40:18.616472Z",
     "start_time": "2025-07-30T07:40:18.576770Z"
    }
   },
   "cell_type": "code",
   "source": [
    "sm = pd.read_csv('F:/Skill Up/Coding Practice/Np and pd/social_media_engagement.csv')\n",
    "sm.head()"
   ],
   "id": "4307321a4f72293d",
   "outputs": [
    {
     "data": {
      "text/plain": [
       "   PostID  UserID    PostDate ContentType  Likes  Comments  Shares\n",
       "0     101     201  2025-07-01       Image    120        10       5\n",
       "1     102     202  2025-07-01       Video    340        45      30\n",
       "2     103     203  2025-07-02        Text     80         5       2\n",
       "3     104     201  2025-07-02       Image    150        12       6\n",
       "4     105     204  2025-07-03       Video    300        40      25"
      ],
      "text/html": [
       "<div>\n",
       "<style scoped>\n",
       "    .dataframe tbody tr th:only-of-type {\n",
       "        vertical-align: middle;\n",
       "    }\n",
       "\n",
       "    .dataframe tbody tr th {\n",
       "        vertical-align: top;\n",
       "    }\n",
       "\n",
       "    .dataframe thead th {\n",
       "        text-align: right;\n",
       "    }\n",
       "</style>\n",
       "<table border=\"1\" class=\"dataframe\">\n",
       "  <thead>\n",
       "    <tr style=\"text-align: right;\">\n",
       "      <th></th>\n",
       "      <th>PostID</th>\n",
       "      <th>UserID</th>\n",
       "      <th>PostDate</th>\n",
       "      <th>ContentType</th>\n",
       "      <th>Likes</th>\n",
       "      <th>Comments</th>\n",
       "      <th>Shares</th>\n",
       "    </tr>\n",
       "  </thead>\n",
       "  <tbody>\n",
       "    <tr>\n",
       "      <th>0</th>\n",
       "      <td>101</td>\n",
       "      <td>201</td>\n",
       "      <td>2025-07-01</td>\n",
       "      <td>Image</td>\n",
       "      <td>120</td>\n",
       "      <td>10</td>\n",
       "      <td>5</td>\n",
       "    </tr>\n",
       "    <tr>\n",
       "      <th>1</th>\n",
       "      <td>102</td>\n",
       "      <td>202</td>\n",
       "      <td>2025-07-01</td>\n",
       "      <td>Video</td>\n",
       "      <td>340</td>\n",
       "      <td>45</td>\n",
       "      <td>30</td>\n",
       "    </tr>\n",
       "    <tr>\n",
       "      <th>2</th>\n",
       "      <td>103</td>\n",
       "      <td>203</td>\n",
       "      <td>2025-07-02</td>\n",
       "      <td>Text</td>\n",
       "      <td>80</td>\n",
       "      <td>5</td>\n",
       "      <td>2</td>\n",
       "    </tr>\n",
       "    <tr>\n",
       "      <th>3</th>\n",
       "      <td>104</td>\n",
       "      <td>201</td>\n",
       "      <td>2025-07-02</td>\n",
       "      <td>Image</td>\n",
       "      <td>150</td>\n",
       "      <td>12</td>\n",
       "      <td>6</td>\n",
       "    </tr>\n",
       "    <tr>\n",
       "      <th>4</th>\n",
       "      <td>105</td>\n",
       "      <td>204</td>\n",
       "      <td>2025-07-03</td>\n",
       "      <td>Video</td>\n",
       "      <td>300</td>\n",
       "      <td>40</td>\n",
       "      <td>25</td>\n",
       "    </tr>\n",
       "  </tbody>\n",
       "</table>\n",
       "</div>"
      ]
     },
     "execution_count": 3,
     "metadata": {},
     "output_type": "execute_result"
    }
   ],
   "execution_count": 3
  },
  {
   "metadata": {},
   "cell_type": "markdown",
   "source": "# **1. Basic Aggregations:**",
   "id": "6b8015f652ef7699"
  },
  {
   "metadata": {
    "ExecuteTime": {
     "end_time": "2025-07-30T10:26:17.557347Z",
     "start_time": "2025-07-30T10:26:17.511323Z"
    }
   },
   "cell_type": "code",
   "source": [
    "# Total number of posts\n",
    "desc = sm.describe()\n",
    "post_count = sm.PostID.count()\n",
    "post_count"
   ],
   "id": "cf11b9f1f8e28c86",
   "outputs": [
    {
     "data": {
      "text/plain": [
       "10"
      ]
     },
     "execution_count": 97,
     "metadata": {},
     "output_type": "execute_result"
    }
   ],
   "execution_count": 97
  },
  {
   "metadata": {
    "ExecuteTime": {
     "end_time": "2025-07-30T07:40:18.659447Z",
     "start_time": "2025-07-30T07:40:18.646852Z"
    }
   },
   "cell_type": "code",
   "source": [
    "# Total number of likes, shares and comments\n",
    "like_count = sm.Likes.sum()\n",
    "share_count = sm.Shares.sum()\n",
    "comment_count = sm.Comments.sum()\n",
    "interaction_count = like_count + share_count + comment_count\n",
    "interaction_count"
   ],
   "id": "8a0328dec2452bd5",
   "outputs": [
    {
     "data": {
      "text/plain": [
       "2106"
      ]
     },
     "execution_count": 5,
     "metadata": {},
     "output_type": "execute_result"
    }
   ],
   "execution_count": 5
  },
  {
   "metadata": {
    "ExecuteTime": {
     "end_time": "2025-07-30T07:40:18.672191Z",
     "start_time": "2025-07-30T07:40:18.659447Z"
    }
   },
   "cell_type": "code",
   "source": [
    "# average likes, shares, comments per post\n",
    "avg_likes = sm.Likes.mean()\n",
    "avg_shares = sm.Shares.mean()\n",
    "avg_comments = sm.Comments.mean()"
   ],
   "id": "3ddc5442bfdae311",
   "outputs": [],
   "execution_count": 6
  },
  {
   "metadata": {},
   "cell_type": "markdown",
   "source": [
    "\n",
    "\n",
    "# 2. Content Type Analysis"
   ],
   "id": "5423ad8c4edd5430"
  },
  {
   "metadata": {
    "ExecuteTime": {
     "end_time": "2025-07-30T09:19:57.435042Z",
     "start_time": "2025-07-30T09:19:57.400862Z"
    }
   },
   "cell_type": "code",
   "source": [
    "#Content based total likes, shares and comments\n",
    "content_like_count = sm.groupby(['ContentType']).Likes.sum()\n",
    "content_share_count = sm.groupby(['ContentType']).Shares.sum()\n",
    "content_comment_count =sm.groupby(['ContentType']).Comments.sum()"
   ],
   "id": "a80bf8c6dac5674b",
   "outputs": [],
   "execution_count": 65
  },
  {
   "metadata": {
    "ExecuteTime": {
     "end_time": "2025-07-30T09:27:10.151472Z",
     "start_time": "2025-07-30T09:27:10.134966Z"
    }
   },
   "cell_type": "code",
   "source": [
    "#The content type that has the highest average engagement per post\n",
    "\n",
    "content_post_count = sm.groupby(['ContentType']).PostID.count()  \n",
    "l = content_like_count.to_frame()\n",
    "p = content_post_count.to_frame()\n",
    "s = content_share_count.to_frame()\n",
    "c = content_comment_count.to_frame()\n",
    "content_details = pd.concat([l, s, c, p], axis=1)  #creating a new DataFrame with Content and its total engagement \n",
    "content_details = content_details.rename(columns={'PostID' : 'TotalPosts'})\n",
    "\n",
    "#Max Avg Like Content\n",
    "avg_likes_per_post = ((content_details.Likes) /  (content_details.TotalPosts))\n",
    "max_avg_likes = avg_likes_per_post.idxmax()\n",
    "print(\"Like:\", max_avg_likes)\n",
    "\n",
    " #Max Avg share content\n",
    "avg_shares_per_post = ((content_details.Shares) /  (content_details.TotalPosts))\n",
    "max_avg_shares = avg_shares_per_post.idxmax()\n",
    "print(\"Shares:\", max_avg_shares)\n",
    "\n",
    " #Max Avg comment content\n",
    "avg_comments_per_post = ((content_details.Comments) /  (content_details.TotalPosts))\n",
    "max_avg_comments = avg_comments_per_post.idxmax()\n",
    "print(\"Comments:\", max_avg_comments)\n"
   ],
   "id": "edf7b491b7837cb1",
   "outputs": [
    {
     "name": "stdout",
     "output_type": "stream",
     "text": [
      "Like: Video\n",
      "Shares: Video\n",
      "Comments: Video\n"
     ]
    }
   ],
   "execution_count": 70
  },
  {
   "metadata": {},
   "cell_type": "markdown",
   "source": "# 3. User Engagement Analysis",
   "id": "a4e4288d9a667441"
  },
  {
   "metadata": {
    "ExecuteTime": {
     "end_time": "2025-07-30T11:22:33.279061Z",
     "start_time": "2025-07-30T11:22:33.225867Z"
    }
   },
   "cell_type": "code",
   "source": [
    "#Identify top 3 users with the highest cumulative engagement (Likes + Comments + Shares)\n",
    "# Calculate Total Engagement per post\n",
    "sm['TotalEngagement'] = sm['Likes'] + sm['Shares'] + sm['Comments']\n",
    "\n",
    "# Group by UserID to get cumulative engagement per user\n",
    "user_total_engagement = sm.groupby('UserID')['TotalEngagement'].sum()\n",
    "\n",
    "# Top 3 users by cumulative engagement\n",
    "top_3_users = user_total_engagement.nlargest(3)\n",
    "print(\"Top 3 Users with Highest Cumulative Engagement:\\n\", top_3_users)"
   ],
   "id": "3c280e40c7d7457e",
   "outputs": [
    {
     "name": "stdout",
     "output_type": "stream",
     "text": [
      "Top 3 Users with Highest Cumulative Engagement:\n",
      " UserID\n",
      "202    795\n",
      "204    365\n",
      "201    303\n",
      "Name: TotalEngagement, dtype: int64\n"
     ]
    }
   ],
   "execution_count": 108
  },
  {
   "metadata": {
    "ExecuteTime": {
     "end_time": "2025-07-30T11:24:53.400087Z",
     "start_time": "2025-07-30T11:24:53.366777Z"
    }
   },
   "cell_type": "code",
   "source": [
    "#Calculate average engagement per post per user\n",
    "# Number of posts per user\n",
    "user_post_counts = sm.groupby('UserID')['PostID'].count()\n",
    "\n",
    "# Average engagement per post per user\n",
    "avg_engagement_per_user = user_total_engagement / user_post_counts\n",
    "\n",
    "print(\"\\nAverage Engagement per Post per User:\\n\", avg_engagement_per_user)"
   ],
   "id": "ea33e9418200a825",
   "outputs": [
    {
     "name": "stdout",
     "output_type": "stream",
     "text": [
      "\n",
      "Average Engagement per Post per User:\n",
      " UserID\n",
      "201    151.5\n",
      "202    397.5\n",
      "203     87.0\n",
      "204    365.0\n",
      "205     65.0\n",
      "206    230.0\n",
      "207     54.0\n",
      "208    207.0\n",
      "dtype: float64\n"
     ]
    }
   ],
   "execution_count": 109
  },
  {
   "metadata": {},
   "cell_type": "markdown",
   "source": "# 4. Temporal Trends",
   "id": "16b8021c89f922ef"
  },
  {
   "metadata": {
    "ExecuteTime": {
     "end_time": "2025-07-30T11:31:54.662732Z",
     "start_time": "2025-07-30T11:31:54.654321Z"
    }
   },
   "cell_type": "code",
   "source": [
    "#Analyze daily trends: total likes, comments, shares per day.\n",
    "engagement_date_count = sm.groupby('PostDate').TotalEngagement.sum()\n",
    "engagement_date_count\n",
    "# sm.head(1)\n"
   ],
   "id": "a1d98aa3465a8b55",
   "outputs": [
    {
     "data": {
      "text/plain": [
       "PostDate\n",
       "2025-07-01    550\n",
       "2025-07-02    255\n",
       "2025-07-03    430\n",
       "2025-07-04    610\n",
       "2025-07-05    261\n",
       "Name: TotalEngagement, dtype: int64"
      ]
     },
     "execution_count": 118,
     "metadata": {},
     "output_type": "execute_result"
    }
   ],
   "execution_count": 118
  },
  {
   "metadata": {
    "ExecuteTime": {
     "end_time": "2025-07-30T11:31:44.226050Z",
     "start_time": "2025-07-30T11:31:44.209099Z"
    }
   },
   "cell_type": "code",
   "source": [
    "# Find which date had the highest total engagement.\n",
    "hi_eng_date = engagement_date_count.idxmax()\n",
    "hi_eng_date"
   ],
   "id": "d0f41f5d56c24248",
   "outputs": [
    {
     "data": {
      "text/plain": [
       "'2025-07-04'"
      ]
     },
     "execution_count": 116,
     "metadata": {},
     "output_type": "execute_result"
    }
   ],
   "execution_count": 116
  },
  {
   "metadata": {},
   "cell_type": "markdown",
   "source": "# 5. Engagement Ratios",
   "id": "2eeb6b1345dadd57"
  },
  {
   "metadata": {
    "ExecuteTime": {
     "end_time": "2025-07-30T11:37:18.262215Z",
     "start_time": "2025-07-30T11:37:18.235641Z"
    }
   },
   "cell_type": "code",
   "source": [
    "# Compute Like-to-Comment ratio and Share-to-Like ratio for each post\n",
    "sm['like_to_comment'] = (sm.Likes) / (sm.Comments)\n",
    "sm['share_to_like'] = (sm.Shares) / (sm.Likes)\n",
    "sm"
   ],
   "id": "5e5af6e46485d90e",
   "outputs": [
    {
     "data": {
      "text/plain": [
       "   PostID  UserID    PostDate ContentType  Likes  Comments  Shares  \\\n",
       "0     101     201  2025-07-01       Image    120        10       5   \n",
       "1     102     202  2025-07-01       Video    340        45      30   \n",
       "2     103     203  2025-07-02        Text     80         5       2   \n",
       "3     104     201  2025-07-02       Image    150        12       6   \n",
       "4     105     204  2025-07-03       Video    300        40      25   \n",
       "5     106     205  2025-07-03        Text     60         4       1   \n",
       "6     107     206  2025-07-04       Image    200        20      10   \n",
       "7     108     202  2025-07-04       Video    310        42      28   \n",
       "8     109     207  2025-07-05        Text     50         3       1   \n",
       "9     110     208  2025-07-05       Image    180        18       9   \n",
       "\n",
       "   TotalEngagement  like_to_comment  share_to_like  \n",
       "0              135        12.000000       0.041667  \n",
       "1              415         7.555556       0.088235  \n",
       "2               87        16.000000       0.025000  \n",
       "3              168        12.500000       0.040000  \n",
       "4              365         7.500000       0.083333  \n",
       "5               65        15.000000       0.016667  \n",
       "6              230        10.000000       0.050000  \n",
       "7              380         7.380952       0.090323  \n",
       "8               54        16.666667       0.020000  \n",
       "9              207        10.000000       0.050000  "
      ],
      "text/html": [
       "<div>\n",
       "<style scoped>\n",
       "    .dataframe tbody tr th:only-of-type {\n",
       "        vertical-align: middle;\n",
       "    }\n",
       "\n",
       "    .dataframe tbody tr th {\n",
       "        vertical-align: top;\n",
       "    }\n",
       "\n",
       "    .dataframe thead th {\n",
       "        text-align: right;\n",
       "    }\n",
       "</style>\n",
       "<table border=\"1\" class=\"dataframe\">\n",
       "  <thead>\n",
       "    <tr style=\"text-align: right;\">\n",
       "      <th></th>\n",
       "      <th>PostID</th>\n",
       "      <th>UserID</th>\n",
       "      <th>PostDate</th>\n",
       "      <th>ContentType</th>\n",
       "      <th>Likes</th>\n",
       "      <th>Comments</th>\n",
       "      <th>Shares</th>\n",
       "      <th>TotalEngagement</th>\n",
       "      <th>like_to_comment</th>\n",
       "      <th>share_to_like</th>\n",
       "    </tr>\n",
       "  </thead>\n",
       "  <tbody>\n",
       "    <tr>\n",
       "      <th>0</th>\n",
       "      <td>101</td>\n",
       "      <td>201</td>\n",
       "      <td>2025-07-01</td>\n",
       "      <td>Image</td>\n",
       "      <td>120</td>\n",
       "      <td>10</td>\n",
       "      <td>5</td>\n",
       "      <td>135</td>\n",
       "      <td>12.000000</td>\n",
       "      <td>0.041667</td>\n",
       "    </tr>\n",
       "    <tr>\n",
       "      <th>1</th>\n",
       "      <td>102</td>\n",
       "      <td>202</td>\n",
       "      <td>2025-07-01</td>\n",
       "      <td>Video</td>\n",
       "      <td>340</td>\n",
       "      <td>45</td>\n",
       "      <td>30</td>\n",
       "      <td>415</td>\n",
       "      <td>7.555556</td>\n",
       "      <td>0.088235</td>\n",
       "    </tr>\n",
       "    <tr>\n",
       "      <th>2</th>\n",
       "      <td>103</td>\n",
       "      <td>203</td>\n",
       "      <td>2025-07-02</td>\n",
       "      <td>Text</td>\n",
       "      <td>80</td>\n",
       "      <td>5</td>\n",
       "      <td>2</td>\n",
       "      <td>87</td>\n",
       "      <td>16.000000</td>\n",
       "      <td>0.025000</td>\n",
       "    </tr>\n",
       "    <tr>\n",
       "      <th>3</th>\n",
       "      <td>104</td>\n",
       "      <td>201</td>\n",
       "      <td>2025-07-02</td>\n",
       "      <td>Image</td>\n",
       "      <td>150</td>\n",
       "      <td>12</td>\n",
       "      <td>6</td>\n",
       "      <td>168</td>\n",
       "      <td>12.500000</td>\n",
       "      <td>0.040000</td>\n",
       "    </tr>\n",
       "    <tr>\n",
       "      <th>4</th>\n",
       "      <td>105</td>\n",
       "      <td>204</td>\n",
       "      <td>2025-07-03</td>\n",
       "      <td>Video</td>\n",
       "      <td>300</td>\n",
       "      <td>40</td>\n",
       "      <td>25</td>\n",
       "      <td>365</td>\n",
       "      <td>7.500000</td>\n",
       "      <td>0.083333</td>\n",
       "    </tr>\n",
       "    <tr>\n",
       "      <th>5</th>\n",
       "      <td>106</td>\n",
       "      <td>205</td>\n",
       "      <td>2025-07-03</td>\n",
       "      <td>Text</td>\n",
       "      <td>60</td>\n",
       "      <td>4</td>\n",
       "      <td>1</td>\n",
       "      <td>65</td>\n",
       "      <td>15.000000</td>\n",
       "      <td>0.016667</td>\n",
       "    </tr>\n",
       "    <tr>\n",
       "      <th>6</th>\n",
       "      <td>107</td>\n",
       "      <td>206</td>\n",
       "      <td>2025-07-04</td>\n",
       "      <td>Image</td>\n",
       "      <td>200</td>\n",
       "      <td>20</td>\n",
       "      <td>10</td>\n",
       "      <td>230</td>\n",
       "      <td>10.000000</td>\n",
       "      <td>0.050000</td>\n",
       "    </tr>\n",
       "    <tr>\n",
       "      <th>7</th>\n",
       "      <td>108</td>\n",
       "      <td>202</td>\n",
       "      <td>2025-07-04</td>\n",
       "      <td>Video</td>\n",
       "      <td>310</td>\n",
       "      <td>42</td>\n",
       "      <td>28</td>\n",
       "      <td>380</td>\n",
       "      <td>7.380952</td>\n",
       "      <td>0.090323</td>\n",
       "    </tr>\n",
       "    <tr>\n",
       "      <th>8</th>\n",
       "      <td>109</td>\n",
       "      <td>207</td>\n",
       "      <td>2025-07-05</td>\n",
       "      <td>Text</td>\n",
       "      <td>50</td>\n",
       "      <td>3</td>\n",
       "      <td>1</td>\n",
       "      <td>54</td>\n",
       "      <td>16.666667</td>\n",
       "      <td>0.020000</td>\n",
       "    </tr>\n",
       "    <tr>\n",
       "      <th>9</th>\n",
       "      <td>110</td>\n",
       "      <td>208</td>\n",
       "      <td>2025-07-05</td>\n",
       "      <td>Image</td>\n",
       "      <td>180</td>\n",
       "      <td>18</td>\n",
       "      <td>9</td>\n",
       "      <td>207</td>\n",
       "      <td>10.000000</td>\n",
       "      <td>0.050000</td>\n",
       "    </tr>\n",
       "  </tbody>\n",
       "</table>\n",
       "</div>"
      ]
     },
     "execution_count": 122,
     "metadata": {},
     "output_type": "execute_result"
    }
   ],
   "execution_count": 122
  },
  {
   "metadata": {
    "ExecuteTime": {
     "end_time": "2025-07-30T11:57:36.705703Z",
     "start_time": "2025-07-30T11:57:36.690107Z"
    }
   },
   "cell_type": "code",
   "source": [
    "# Identify posts with unusually high or low ratios.\n",
    "lc_mean = sm.like_to_comment.mean()\n",
    "lc_std = sm.like_to_comment.std()\n",
    "sm['lc_z_score'] = ((sm.like_to_comment - lc_mean) / lc_std)\n",
    "\n",
    "\n",
    "sl_mean = sm.share_to_like.mean()\n",
    "sl_std = sm.share_to_like.std()\n",
    "sm['sl_z_score'] = ((sm.share_to_like - sl_mean) / sl_std)\n",
    "\n",
    "unusual_lc_post = sm.loc[((sm.lc_z_score > 1) | (sm.lc_z_score < -1))]\n",
    "unusual_sl_post = sm.loc[((sm.sl_z_score > 1) | (sm.sl_z_score < -1))]"
   ],
   "id": "cd411a3690a59e88",
   "outputs": [
    {
     "data": {
      "text/plain": [
       "   PostID  UserID    PostDate ContentType  Likes  Comments  Shares  \\\n",
       "1     102     202  2025-07-01       Video    340        45      30   \n",
       "2     103     203  2025-07-02        Text     80         5       2   \n",
       "4     105     204  2025-07-03       Video    300        40      25   \n",
       "7     108     202  2025-07-04       Video    310        42      28   \n",
       "8     109     207  2025-07-05        Text     50         3       1   \n",
       "\n",
       "   TotalEngagement  like_to_comment  share_to_like  lc_z_score  sl_z_score  \n",
       "1              415         7.555556       0.088235   -1.099781    1.352092  \n",
       "2               87        16.000000       0.025000    1.278607   -0.915038  \n",
       "4              365         7.500000       0.083333   -1.115428    1.176345  \n",
       "7              380         7.380952       0.090323   -1.148958    1.426926  \n",
       "8               54        16.666667       0.020000    1.466374   -1.094300  "
      ],
      "text/html": [
       "<div>\n",
       "<style scoped>\n",
       "    .dataframe tbody tr th:only-of-type {\n",
       "        vertical-align: middle;\n",
       "    }\n",
       "\n",
       "    .dataframe tbody tr th {\n",
       "        vertical-align: top;\n",
       "    }\n",
       "\n",
       "    .dataframe thead th {\n",
       "        text-align: right;\n",
       "    }\n",
       "</style>\n",
       "<table border=\"1\" class=\"dataframe\">\n",
       "  <thead>\n",
       "    <tr style=\"text-align: right;\">\n",
       "      <th></th>\n",
       "      <th>PostID</th>\n",
       "      <th>UserID</th>\n",
       "      <th>PostDate</th>\n",
       "      <th>ContentType</th>\n",
       "      <th>Likes</th>\n",
       "      <th>Comments</th>\n",
       "      <th>Shares</th>\n",
       "      <th>TotalEngagement</th>\n",
       "      <th>like_to_comment</th>\n",
       "      <th>share_to_like</th>\n",
       "      <th>lc_z_score</th>\n",
       "      <th>sl_z_score</th>\n",
       "    </tr>\n",
       "  </thead>\n",
       "  <tbody>\n",
       "    <tr>\n",
       "      <th>1</th>\n",
       "      <td>102</td>\n",
       "      <td>202</td>\n",
       "      <td>2025-07-01</td>\n",
       "      <td>Video</td>\n",
       "      <td>340</td>\n",
       "      <td>45</td>\n",
       "      <td>30</td>\n",
       "      <td>415</td>\n",
       "      <td>7.555556</td>\n",
       "      <td>0.088235</td>\n",
       "      <td>-1.099781</td>\n",
       "      <td>1.352092</td>\n",
       "    </tr>\n",
       "    <tr>\n",
       "      <th>2</th>\n",
       "      <td>103</td>\n",
       "      <td>203</td>\n",
       "      <td>2025-07-02</td>\n",
       "      <td>Text</td>\n",
       "      <td>80</td>\n",
       "      <td>5</td>\n",
       "      <td>2</td>\n",
       "      <td>87</td>\n",
       "      <td>16.000000</td>\n",
       "      <td>0.025000</td>\n",
       "      <td>1.278607</td>\n",
       "      <td>-0.915038</td>\n",
       "    </tr>\n",
       "    <tr>\n",
       "      <th>4</th>\n",
       "      <td>105</td>\n",
       "      <td>204</td>\n",
       "      <td>2025-07-03</td>\n",
       "      <td>Video</td>\n",
       "      <td>300</td>\n",
       "      <td>40</td>\n",
       "      <td>25</td>\n",
       "      <td>365</td>\n",
       "      <td>7.500000</td>\n",
       "      <td>0.083333</td>\n",
       "      <td>-1.115428</td>\n",
       "      <td>1.176345</td>\n",
       "    </tr>\n",
       "    <tr>\n",
       "      <th>7</th>\n",
       "      <td>108</td>\n",
       "      <td>202</td>\n",
       "      <td>2025-07-04</td>\n",
       "      <td>Video</td>\n",
       "      <td>310</td>\n",
       "      <td>42</td>\n",
       "      <td>28</td>\n",
       "      <td>380</td>\n",
       "      <td>7.380952</td>\n",
       "      <td>0.090323</td>\n",
       "      <td>-1.148958</td>\n",
       "      <td>1.426926</td>\n",
       "    </tr>\n",
       "    <tr>\n",
       "      <th>8</th>\n",
       "      <td>109</td>\n",
       "      <td>207</td>\n",
       "      <td>2025-07-05</td>\n",
       "      <td>Text</td>\n",
       "      <td>50</td>\n",
       "      <td>3</td>\n",
       "      <td>1</td>\n",
       "      <td>54</td>\n",
       "      <td>16.666667</td>\n",
       "      <td>0.020000</td>\n",
       "      <td>1.466374</td>\n",
       "      <td>-1.094300</td>\n",
       "    </tr>\n",
       "  </tbody>\n",
       "</table>\n",
       "</div>"
      ]
     },
     "execution_count": 128,
     "metadata": {},
     "output_type": "execute_result"
    }
   ],
   "execution_count": 128
  },
  {
   "metadata": {},
   "cell_type": "markdown",
   "source": "# 6. Engagement Metric",
   "id": "29237df09b40cec7"
  },
  {
   "metadata": {
    "ExecuteTime": {
     "end_time": "2025-07-30T13:52:08.969551Z",
     "start_time": "2025-07-30T13:52:08.945222Z"
    }
   },
   "cell_type": "code",
   "source": [
    "# Create a new metric: Engagement Score = (Likes * 0.5) + (Comments * 2) + (Shares * 3).\n",
    "# Rank posts by Engagement Score and list the top 5.\n",
    "sm['EngagementMetric'] = sm.apply(lambda x: ((x.Likes * 0.5 ) + (x.Shares * 2) + (x.Comments * 3)), axis=1)\n",
    "sm['rank'] = sm.EngagementMetric.rank(ascending = False, method = 'dense').astype(int)\n",
    "top_5_posts = sm.nsmallest(5, 'rank')[['PostID', 'UserID', 'Likes', 'Comments', 'Shares', 'EngagementMetric', 'rank']]\n",
    "print(top_5_posts)"
   ],
   "id": "50fa8186031a740f",
   "outputs": [
    {
     "name": "stdout",
     "output_type": "stream",
     "text": [
      "   PostID  UserID    PostDate ContentType  Likes  Comments  Shares  \\\n",
      "1     102     202  2025-07-01       Video    340        45      30   \n",
      "7     108     202  2025-07-04       Video    310        42      28   \n",
      "4     105     204  2025-07-03       Video    300        40      25   \n",
      "6     107     206  2025-07-04       Image    200        20      10   \n",
      "9     110     208  2025-07-05       Image    180        18       9   \n",
      "\n",
      "   TotalEngagement  like_to_comment  share_to_like  lc_z_score  sl_z_score  \\\n",
      "1              415         7.555556       0.088235   -1.099781    1.352092   \n",
      "7              380         7.380952       0.090323   -1.148958    1.426926   \n",
      "4              365         7.500000       0.083333   -1.115428    1.176345   \n",
      "6              230        10.000000       0.050000   -0.411300   -0.018731   \n",
      "9              207        10.000000       0.050000   -0.411300   -0.018731   \n",
      "\n",
      "   EngagementMetric  rank  \n",
      "1             365.0     1  \n",
      "7             337.0     2  \n",
      "4             320.0     3  \n",
      "6             180.0     4  \n",
      "9             162.0     5  \n"
     ]
    }
   ],
   "execution_count": 144
  }
 ],
 "metadata": {
  "kernelspec": {
   "display_name": "Python 3",
   "language": "python",
   "name": "python3"
  },
  "language_info": {
   "codemirror_mode": {
    "name": "ipython",
    "version": 2
   },
   "file_extension": ".py",
   "mimetype": "text/x-python",
   "name": "python",
   "nbconvert_exporter": "python",
   "pygments_lexer": "ipython2",
   "version": "2.7.6"
  }
 },
 "nbformat": 4,
 "nbformat_minor": 5
}
